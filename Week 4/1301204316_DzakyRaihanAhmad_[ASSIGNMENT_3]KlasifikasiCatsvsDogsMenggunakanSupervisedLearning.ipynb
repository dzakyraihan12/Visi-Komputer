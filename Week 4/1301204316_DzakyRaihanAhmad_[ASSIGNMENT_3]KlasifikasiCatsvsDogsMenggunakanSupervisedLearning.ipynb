{
  "cells": [
    {
      "cell_type": "markdown",
      "metadata": {
        "id": "4I9cymZt4zy7"
      },
      "source": [
        "Klasifikasi cats vs dogs menggunakan SVM"
      ]
    },
    {
      "cell_type": "code",
      "execution_count": 1,
      "metadata": {
        "id": "-Er6Vy7THjK2"
      },
      "outputs": [],
      "source": [
        "import os\n",
        "import zipfile\n",
        "import tensorflow as tf\n",
        "from tensorflow.keras.optimizers import RMSprop\n",
        "from tensorflow.keras.preprocessing.image import ImageDataGenerator\n",
        "import os\n",
        "import cv2\n",
        "import numpy as np\n",
        "from sklearn import svm\n",
        "from sklearn.metrics import accuracy_score, precision_score, recall_score, f1_score\n",
        "from sklearn.model_selection import train_test_split\n",
        "from sklearn.model_selection import GridSearchCV\n"
      ]
    },
    {
      "cell_type": "markdown",
      "metadata": {
        "id": "mqqs2xW54_Xo"
      },
      "source": [
        "Baca Data"
      ]
    },
    {
      "cell_type": "code",
      "execution_count": 2,
      "metadata": {},
      "outputs": [],
      "source": [
        "local = 'cats_and_dogs_filtered.zip'\n",
        "zip_ref = zipfile.ZipFile(local, 'r')\n",
        "zip_ref.extractall('/tmp')\n",
        "zip_ref.close()\n",
        "\n",
        "base_dir = '/tmp/cats_and_dogs_filtered'\n",
        "train_dir = os.path.join(base_dir, 'train')\n",
        "validation_dir = os.path.join(base_dir, 'validation')\n",
        "\n",
        "# Directory with our training cat pictures\n",
        "train_cats_dir = os.path.join(train_dir, 'cats')\n",
        "\n",
        "# Directory with our training dog pictures\n",
        "train_dogs_dir = os.path.join(train_dir, 'dogs')\n",
        "\n",
        "# Directory with our validation cat pictures\n",
        "validation_cats_dir = os.path.join(validation_dir, 'cats')\n",
        "\n",
        "# Directory with our validation dog pictures\n",
        "validation_dogs_dir = os.path.join(validation_dir, 'dogs')"
      ]
    },
    {
      "cell_type": "code",
      "execution_count": 3,
      "metadata": {},
      "outputs": [
        {
          "name": "stdout",
          "output_type": "stream",
          "text": [
            "Best Parameters: {'C': 1, 'kernel': 'rbf'}\n",
            "Test Accuracy: 61.75%\n",
            "Test Precision: 61.32%\n",
            "Test Recall: 64.68%\n",
            "Test F1: 64.68%\n"
          ]
        }
      ],
      "source": [
        "\n",
        "# Load and preprocess the data\n",
        "image_paths = []  # List of image file paths\n",
        "labels = []  # List of corresponding labels (0 for cats, 1 for dogs)\n",
        "\n",
        "image_size = (150, 150)  # Define the desired image size\n",
        "\n",
        "for img_path in os.listdir(train_cats_dir):\n",
        "    image = cv2.imread(os.path.join(train_cats_dir, img_path))\n",
        "    if image is not None:\n",
        "        image = cv2.resize(image, image_size)  # Resize the image\n",
        "        image = cv2.cvtColor(image, cv2.COLOR_BGR2GRAY)  # Convert to grayscale if needed\n",
        "        image = image / 255.0  # Normalize pixel values (if needed)\n",
        "        image = image.flatten()  # Flatten the image into a 1D array\n",
        "        image_paths.append(image)\n",
        "        labels.append(0)  # 0 represents cats\n",
        "\n",
        "for img_path in os.listdir(train_dogs_dir):\n",
        "    image = cv2.imread(os.path.join(train_dogs_dir, img_path))\n",
        "    if image is not None:\n",
        "        image = cv2.resize(image, image_size)  # Resize the image\n",
        "        image = cv2.cvtColor(image, cv2.COLOR_BGR2GRAY)  # Convert to grayscale if needed\n",
        "        image = image / 255.0  # Normalize pixel values (if needed)\n",
        "        image = image.flatten()  # Flatten the image into a 1D array\n",
        "        image_paths.append(image)\n",
        "        labels.append(1)  # 1 represents dogs\n",
        "\n",
        "# Convert the image_paths and labels lists to NumPy arrays\n",
        "X = np.array(image_paths)\n",
        "y = np.array(labels)\n",
        "\n",
        "# Split data into training and validation sets\n",
        "X_train, X_test, y_train, y_test = train_test_split(X, y, test_size=0.2, random_state=42)\n",
        "\n",
        "# Define the parameter grid to search\n",
        "param_grid = {\n",
        "    'C': [0.1, 1, 10],           # Regularization parameter\n",
        "    'kernel': ['linear', 'rbf', 'sigmoid', 'poly'],  # Kernel type (linear or radial basis function)\n",
        "}\n",
        "\n",
        "# Create an SVM classifier\n",
        "svm_classifier = svm.SVC()\n",
        "\n",
        "# Perform grid search with cross-validation\n",
        "grid_search = GridSearchCV(svm_classifier, param_grid, cv=7)  # You can adjust the number of cross-validation folds\n",
        "\n",
        "# Fit the grid search to the data\n",
        "grid_search.fit(X_train, y_train)\n",
        "\n",
        "# Get the best parameters from the grid search\n",
        "best_params = grid_search.best_params_\n",
        "print(\"Best Parameters:\", best_params)\n",
        "\n",
        "# Make predictions using the best model\n",
        "best_model = grid_search.best_estimator_\n",
        "y_test_pred = best_model.predict(X_test)\n",
        "\n",
        "# Calculate metrics for the validation set\n",
        "accuracy = accuracy_score(y_test, y_test_pred)\n",
        "precision = precision_score(y_test, y_test_pred)\n",
        "recall = recall_score(y_test, y_test_pred)\n",
        "f1 = f1_score(y_test, y_test_pred)\n",
        "\n",
        "print(f\"Test Accuracy: {accuracy * 100:.2f}%\")\n",
        "print(f\"Test Precision: {precision * 100:.2f}%\")\n",
        "print(f\"Test Recall: {recall * 100:.2f}%\")\n",
        "print(f\"Test F1: {recall * 100:.2f}%\")"
      ]
    },
    {
      "cell_type": "code",
      "execution_count": 4,
      "metadata": {},
      "outputs": [
        {
          "name": "stdout",
          "output_type": "stream",
          "text": [
            "Validation Accuracy: 60.00%\n",
            "Validation Precision: 59.62%\n",
            "Validation Recall: 62.00%\n",
            "Validation F1: 62.00%\n"
          ]
        }
      ],
      "source": [
        "# Directory with our validation cat pictures\n",
        "validation_cats_dir = os.path.join(validation_dir, 'cats')\n",
        "\n",
        "# Directory with our validation dog pictures\n",
        "validation_dogs_dir = os.path.join(validation_dir, 'dogs')\n",
        "\n",
        "# Load and preprocess the data\n",
        "image_paths = []  # List of image file paths\n",
        "labels = []  # List of corresponding labels (0 for cats, 1 for dogs)\n",
        "\n",
        "image_size = (150, 150)  # Define the desired image size\n",
        "\n",
        "for img_path in os.listdir(validation_cats_dir):\n",
        "    image = cv2.imread(os.path.join(validation_cats_dir, img_path))\n",
        "    if image is not None:\n",
        "        image = cv2.resize(image, image_size)  # Resize the image\n",
        "        image = cv2.cvtColor(image, cv2.COLOR_BGR2GRAY)  # Convert to grayscale if needed\n",
        "        image = image / 255.0  # Normalize pixel values\n",
        "        image = image.flatten()  # Flatten the image into a 1D array\n",
        "        image_paths.append(image)\n",
        "        labels.append(0)  # 0 represents cats\n",
        "\n",
        "for img_path in os.listdir(validation_dogs_dir):\n",
        "    image = cv2.imread(os.path.join(validation_dogs_dir, img_path))\n",
        "    if image is not None:\n",
        "        image = cv2.resize(image, image_size)  # Resize the image\n",
        "        image = cv2.cvtColor(image, cv2.COLOR_BGR2GRAY)  # Convert to grayscale\n",
        "        image = image / 255.0  # Normalize pixel values\n",
        "        image = image.flatten()  # Flatten the image into a 1D array\n",
        "        image_paths.append(image)\n",
        "        labels.append(1)  # 1 represents dogs\n",
        "\n",
        "# Convert the image_paths and labels lists to NumPy arrays\n",
        "X_validation = np.array(image_paths)\n",
        "y_validation = np.array(labels)\n",
        "\n",
        "# Use your trained SVM model to make predictions on the validation data\n",
        "y_validation_pred = best_model.predict(X_validation)\n",
        "\n",
        "# Calculate metrics for the validation data\n",
        "accuracy_validation = accuracy_score(y_validation, y_validation_pred)\n",
        "precision_validation = precision_score(y_validation, y_validation_pred)\n",
        "recall_validation = recall_score(y_validation, y_validation_pred)\n",
        "f1_validation = f1_score(y_validation, y_validation_pred)\n",
        "\n",
        "print(f\"Validation Accuracy: {accuracy_validation * 100:.2f}%\")\n",
        "print(f\"Validation Precision: {precision_validation * 100:.2f}%\")\n",
        "print(f\"Validation Recall: {recall_validation * 100:.2f}%\")\n",
        "print(f\"Validation F1: {recall_validation * 100:.2f}%\")"
      ]
    }
  ],
  "metadata": {
    "colab": {
      "provenance": []
    },
    "kernelspec": {
      "display_name": "Python 3",
      "name": "python3"
    },
    "language_info": {
      "codemirror_mode": {
        "name": "ipython",
        "version": 3
      },
      "file_extension": ".py",
      "mimetype": "text/x-python",
      "name": "python",
      "nbconvert_exporter": "python",
      "pygments_lexer": "ipython3",
      "version": "3.11.4"
    }
  },
  "nbformat": 4,
  "nbformat_minor": 0
}
