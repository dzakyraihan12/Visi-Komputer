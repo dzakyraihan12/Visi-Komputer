{
 "cells": [
  {
   "cell_type": "code",
   "execution_count": 68,
   "metadata": {},
   "outputs": [],
   "source": [
    "import os\n",
    "import cv2\n",
    "import zipfile\n",
    "import tensorflow as tf\n",
    "from tensorflow.keras.optimizers import RMSprop\n",
    "from tensorflow.keras.preprocessing.image import ImageDataGenerator\n",
    "import numpy as np\n",
    "from sklearn.model_selection import train_test_split\n",
    "from sklearn.metrics import accuracy_score\n",
    "from skimage.feature import hog\n",
    "from skimage import exposure\n",
    "from tensorflow.keras import Sequential\n",
    "from tensorflow.keras.layers import Flatten, Dense, Dropout, Conv2D, MaxPooling2D"
   ]
  },
  {
   "cell_type": "code",
   "execution_count": 69,
   "metadata": {},
   "outputs": [],
   "source": [
    "def extract_hog_features(image):\n",
    "    # Convert the image to grayscale\n",
    "    gray_image = cv2.cvtColor(image, cv2.COLOR_BGR2GRAY)\n",
    "    \n",
    "    # Extract HOG features\n",
    "    features, hog_image = hog(gray_image, pixels_per_cell=(8, 8), cells_per_block=(2, 2), visualize=True)\n",
    "    \n",
    "    # Perform global contrast normalization\n",
    "    hog_image_rescaled = exposure.rescale_intensity(hog_image, in_range=(0, 10))\n",
    "    \n",
    "    return features"
   ]
  },
  {
   "cell_type": "code",
   "execution_count": 70,
   "metadata": {},
   "outputs": [],
   "source": [
    "local = 'cats_and_dogs_filtered.zip'\n",
    "zip_ref = zipfile.ZipFile(local, 'r')\n",
    "zip_ref.extractall('/tmp')\n",
    "zip_ref.close()\n",
    "\n",
    "base_dir = '/tmp/cats_and_dogs_filtered'\n",
    "train_dir = os.path.join(base_dir, 'train')\n",
    "validation_dir = os.path.join(base_dir, 'validation')\n",
    "\n",
    "# Directory with our training cat pictures\n",
    "train_cats_dir = os.path.join(train_dir, 'cats')\n",
    "# Directory with our training dog pictures\n",
    "train_dogs_dir = os.path.join(train_dir, 'dogs')\n",
    "# Directory with our validation cat pictures\n",
    "validation_cats_dir = os.path.join(validation_dir, 'cats')\n",
    "# Directory with our validation dog pictures\n",
    "validation_dogs_dir = os.path.join(validation_dir, 'dogs')"
   ]
  },
  {
   "cell_type": "code",
   "execution_count": 79,
   "metadata": {},
   "outputs": [
    {
     "name": "stdout",
     "output_type": "stream",
     "text": [
      "Epoch 1/14\n",
      "63/63 [==============================] - 6s 70ms/step - loss: 0.6798 - accuracy: 0.5745\n",
      "Epoch 2/14\n",
      "63/63 [==============================] - 4s 65ms/step - loss: 0.6107 - accuracy: 0.6715\n",
      "Epoch 3/14\n",
      "63/63 [==============================] - 4s 67ms/step - loss: 0.5757 - accuracy: 0.7030\n",
      "Epoch 4/14\n",
      "63/63 [==============================] - 5s 76ms/step - loss: 0.5526 - accuracy: 0.7185\n",
      "Epoch 5/14\n",
      "63/63 [==============================] - 4s 64ms/step - loss: 0.5265 - accuracy: 0.7455\n",
      "Epoch 6/14\n",
      "63/63 [==============================] - 5s 77ms/step - loss: 0.4994 - accuracy: 0.7745\n",
      "Epoch 7/14\n",
      "63/63 [==============================] - 4s 66ms/step - loss: 0.4881 - accuracy: 0.7740\n",
      "Epoch 8/14\n",
      "63/63 [==============================] - 4s 60ms/step - loss: 0.4826 - accuracy: 0.7755\n",
      "Epoch 9/14\n",
      "63/63 [==============================] - 4s 58ms/step - loss: 0.4679 - accuracy: 0.7895\n",
      "Epoch 10/14\n",
      "63/63 [==============================] - 4s 58ms/step - loss: 0.4442 - accuracy: 0.8090\n",
      "Epoch 11/14\n",
      "63/63 [==============================] - 4s 62ms/step - loss: 0.4308 - accuracy: 0.8175\n",
      "Epoch 12/14\n",
      "63/63 [==============================] - 4s 59ms/step - loss: 0.4188 - accuracy: 0.8315\n",
      "Epoch 13/14\n",
      "63/63 [==============================] - 4s 61ms/step - loss: 0.4054 - accuracy: 0.8315\n",
      "Epoch 14/14\n",
      "63/63 [==============================] - 4s 57ms/step - loss: 0.4044 - accuracy: 0.8235\n"
     ]
    },
    {
     "data": {
      "text/plain": [
       "<keras.src.callbacks.History at 0x2213b5c1f90>"
      ]
     },
     "execution_count": 79,
     "metadata": {},
     "output_type": "execute_result"
    }
   ],
   "source": [
    "# Set random seed for reproducibility\n",
    "np.random.seed(14)\n",
    "\n",
    "# Create data generators for both training and testing data\n",
    "def preprocess_images(directory):\n",
    "    images = []\n",
    "    labels = []\n",
    "    \n",
    "    for category in os.listdir(directory):\n",
    "        category_dir = os.path.join(directory, category)\n",
    "        \n",
    "        for filename in os.listdir(category_dir):\n",
    "            image_path = os.path.join(category_dir, filename)\n",
    "            image = cv2.imread(image_path)\n",
    "            image = cv2.resize(image, (150, 150))\n",
    "            \n",
    "            # Extract HOG features\n",
    "            hog_features = extract_hog_features(image)\n",
    "            \n",
    "            images.append(hog_features)\n",
    "            labels.append(1 if category == 'dogs' else 0)\n",
    "    \n",
    "    return np.array(images), np.array(labels)\n",
    "\n",
    "train_images, train_labels = preprocess_images(train_dir)\n",
    "validation_images, validation_labels = preprocess_images(validation_dir)\n",
    "\n",
    "# Create ANN model\n",
    "model = Sequential()\n",
    "model.add(Dense(256, activation='relu', input_shape=(train_images.shape[1],)))\n",
    "model.add(Dropout(0.5))\n",
    "model.add(Dense(1, activation='sigmoid'))\n",
    "\n",
    "# Compile the model\n",
    "model.compile(optimizer=Adam(learning_rate=0.0001), loss='binary_crossentropy', metrics=['accuracy'])\n",
    "\n",
    "# Train ANN on training data\n",
    "model.fit(train_images, train_labels, epochs=14, batch_size=32)"
   ]
  },
  {
   "cell_type": "code",
   "execution_count": 80,
   "metadata": {},
   "outputs": [
    {
     "name": "stdout",
     "output_type": "stream",
     "text": [
      "32/32 [==============================] - 0s 4ms/step - loss: 0.5570 - accuracy: 0.7200\n",
      "Akurasi Validasi: 72.00%\n"
     ]
    }
   ],
   "source": [
    "# Evaluate the performance of the ANN on the validation data\n",
    "validation_loss, validation_accuracy = model.evaluate(validation_images, validation_labels)\n",
    "print(f\"Akurasi Validasi: {validation_accuracy * 100:.2f}%\")"
   ]
  }
 ],
 "metadata": {
  "kernelspec": {
   "display_name": "base",
   "language": "python",
   "name": "python3"
  },
  "language_info": {
   "name": "python",
   "version": "3.11.4"
  }
 },
 "nbformat": 4,
 "nbformat_minor": 2
}
